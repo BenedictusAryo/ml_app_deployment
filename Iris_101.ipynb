{
 "cells": [
  {
   "cell_type": "markdown",
   "metadata": {},
   "source": [
    "# Iris Flower Prediction\n",
    "\n",
    "Iris Flower Prediction is a classic  `Multivariate Classification Problems` often used for Introduction to Machine Learning especially in Classification techniques where we need to Predict the Iris Flower Species given it's features or characteristics of each flower class.\n",
    "\n",
    "<img src=\"static/iris_image.png\" width=\"700\" >\n",
    "\n",
    "The Iris dataset was used in R.A. Fisher's classic 1936 paper, [The Use of Multiple Measurements in Taxonomic Problems](http://rcs.chemometrics.ru/Tutorials/classification/Fisher.pdf), and can also be found on the [UCI Machine Learning Repository](https://archive.ics.uci.edu/ml/datasets/iris) and the [Kaggle](https://www.kaggle.com/uciml/iris) as well.\n",
    "\n",
    "It includes three iris species with 50 samples each as well as some properties about each flower. One flower species is linearly separable from the other two, but the other two are not linearly separable from each other.\n",
    "\n",
    "Since it's very popular dataset, it's already included in **R** and some library in **Python** like scikit-learn and **Seaborn**.\n",
    "\n",
    "---\n",
    "\n",
    "## Load Library and Dataset\n",
    "We will use `Seaborn` to load the Iris Dataset. and since the Label `species` is multi class and specified by **`String`** we will use Tree Classifier which can output the string as prediction result, just for convinient"
   ]
  },
  {
   "cell_type": "code",
   "execution_count": 1,
   "metadata": {},
   "outputs": [],
   "source": [
    "import pandas as pd\n",
    "import seaborn as sns\n",
    "import matplotlib.pyplot as plt\n",
    "from sklearn.pipeline import Pipeline\n",
    "from sklearn.preprocessing import PolynomialFeatures,StandardScaler\n",
    "from sklearn.ensemble import RandomForestClassifier\n",
    "from sklearn.model_selection import train_test_split, GridSearchCV\n",
    "from sklearn.metrics import accuracy_score"
   ]
  },
  {
   "cell_type": "code",
   "execution_count": 2,
   "metadata": {},
   "outputs": [
    {
     "data": {
      "text/html": [
       "<div>\n",
       "<style scoped>\n",
       "    .dataframe tbody tr th:only-of-type {\n",
       "        vertical-align: middle;\n",
       "    }\n",
       "\n",
       "    .dataframe tbody tr th {\n",
       "        vertical-align: top;\n",
       "    }\n",
       "\n",
       "    .dataframe thead th {\n",
       "        text-align: right;\n",
       "    }\n",
       "</style>\n",
       "<table border=\"1\" class=\"dataframe\">\n",
       "  <thead>\n",
       "    <tr style=\"text-align: right;\">\n",
       "      <th></th>\n",
       "      <th>sepal_length</th>\n",
       "      <th>sepal_width</th>\n",
       "      <th>petal_length</th>\n",
       "      <th>petal_width</th>\n",
       "      <th>species</th>\n",
       "    </tr>\n",
       "  </thead>\n",
       "  <tbody>\n",
       "    <tr>\n",
       "      <th>0</th>\n",
       "      <td>5.1</td>\n",
       "      <td>3.5</td>\n",
       "      <td>1.4</td>\n",
       "      <td>0.2</td>\n",
       "      <td>setosa</td>\n",
       "    </tr>\n",
       "    <tr>\n",
       "      <th>1</th>\n",
       "      <td>4.9</td>\n",
       "      <td>3.0</td>\n",
       "      <td>1.4</td>\n",
       "      <td>0.2</td>\n",
       "      <td>setosa</td>\n",
       "    </tr>\n",
       "    <tr>\n",
       "      <th>2</th>\n",
       "      <td>4.7</td>\n",
       "      <td>3.2</td>\n",
       "      <td>1.3</td>\n",
       "      <td>0.2</td>\n",
       "      <td>setosa</td>\n",
       "    </tr>\n",
       "    <tr>\n",
       "      <th>3</th>\n",
       "      <td>4.6</td>\n",
       "      <td>3.1</td>\n",
       "      <td>1.5</td>\n",
       "      <td>0.2</td>\n",
       "      <td>setosa</td>\n",
       "    </tr>\n",
       "    <tr>\n",
       "      <th>4</th>\n",
       "      <td>5.0</td>\n",
       "      <td>3.6</td>\n",
       "      <td>1.4</td>\n",
       "      <td>0.2</td>\n",
       "      <td>setosa</td>\n",
       "    </tr>\n",
       "  </tbody>\n",
       "</table>\n",
       "</div>"
      ],
      "text/plain": [
       "   sepal_length  sepal_width  petal_length  petal_width species\n",
       "0           5.1          3.5           1.4          0.2  setosa\n",
       "1           4.9          3.0           1.4          0.2  setosa\n",
       "2           4.7          3.2           1.3          0.2  setosa\n",
       "3           4.6          3.1           1.5          0.2  setosa\n",
       "4           5.0          3.6           1.4          0.2  setosa"
      ]
     },
     "execution_count": 2,
     "metadata": {},
     "output_type": "execute_result"
    }
   ],
   "source": [
    "df = sns.load_dataset('iris')\n",
    "df.head()"
   ]
  },
  {
   "cell_type": "markdown",
   "metadata": {},
   "source": [
    "<br>\n",
    "\n",
    "## Exploratory Data Analysis\n",
    "Usualy before we started to modelling, we will take a look to the data to analyze the features that might help for prediction"
   ]
  },
  {
   "cell_type": "code",
   "execution_count": 3,
   "metadata": {},
   "outputs": [
    {
     "data": {
      "image/png": "[encoded data removed]",
      "text/plain": [
       "<Figure size 432x288 with 1 Axes>"
      ]
     },
     "metadata": {
      "needs_background": "light"
     },
     "output_type": "display_data"
    }
   ],
   "source": [
    "sns.countplot(x='species',data=df)\n",
    "plt.title('Count of Data available for Each Class ')\n",
    "plt.show()"
   ]
  },
  {
   "cell_type": "code",
   "execution_count": 4,
   "metadata": {},
   "outputs": [
    {
     "data": {
      "image/png": "[encoded data removed]",
      "text/plain": [
       "<Figure size 576x288 with 2 Axes>"
      ]
     },
     "metadata": {
      "needs_background": "light"
     },
     "output_type": "display_data"
    }
   ],
   "source": [
    "fig, (ax1, ax2) = plt.subplots(ncols=2, figsize=(8,4))\n",
    "sns.scatterplot(x='sepal_length', y='sepal_width', hue='species', ax=ax1, data=df, legend=False)\n",
    "sns.scatterplot(x='petal_length', y='petal_width', hue='species', ax=ax2, data=df)\n",
    "plt.show()"
   ]
  },
  {
   "cell_type": "markdown",
   "metadata": {},
   "source": [
    "<br>\n",
    "\n",
    "The number of each class label is 50, hence the data is balanced for each class.\n",
    "\n",
    "Based on Scatterplot, **Setosa** is Linear separable, but **Versicolor** and **Virginica** is seems unseparable in the sepal features, but in petal features seems it have separation in terms of petal length and petal width\n",
    "\n",
    "___\n",
    "\n",
    "## Modelling and Optimization\n",
    "In the modelling Phase, we will use **Grid Search Crossvalidation** to find the best parameters of the models."
   ]
  },
  {
   "cell_type": "code",
   "execution_count": 5,
   "metadata": {},
   "outputs": [
    {
     "data": {
      "text/plain": [
       "((120, 4), (30,))"
      ]
     },
     "execution_count": 5,
     "metadata": {},
     "output_type": "execute_result"
    }
   ],
   "source": [
    "# Create Training and Testing Data\n",
    "X = df.drop('species', axis=1)\n",
    "y = df['species']\n",
    "\n",
    "X_train, X_test, y_train, y_test = train_test_split(X, y, test_size=0.2)\n",
    "X_train.shape, y_test.shape"
   ]
  },
  {
   "cell_type": "code",
   "execution_count": 6,
   "metadata": {},
   "outputs": [
    {
     "name": "stdout",
     "output_type": "stream",
     "text": [
      "Fitting 5 folds for each of 24 candidates, totalling 120 fits\n"
     ]
    },
    {
     "name": "stderr",
     "output_type": "stream",
     "text": [
      "[Parallel(n_jobs=-1)]: Using backend LokyBackend with 16 concurrent workers.\n",
      "[Parallel(n_jobs=-1)]: Done  18 tasks      | elapsed:    3.0s\n",
      "[Parallel(n_jobs=-1)]: Done 120 out of 120 | elapsed:    4.5s finished\n"
     ]
    },
    {
     "data": {
      "text/plain": [
       "{'RF__max_depth': 3,\n",
       " 'RF__max_features': 3,\n",
       " 'poly__degree': 1,\n",
       " 'poly__interaction_only': False}"
      ]
     },
     "execution_count": 6,
     "metadata": {},
     "output_type": "execute_result"
    }
   ],
   "source": [
    "# Grid Search parameters and training the models\n",
    "pipeline = Pipeline([\n",
    "    ('poly', PolynomialFeatures()),\n",
    "    ('scaler', StandardScaler()),\n",
    "    ('RF', RandomForestClassifier())\n",
    "])\n",
    "\n",
    "parameters = {\n",
    "    'poly__degree':[1,2],\n",
    "    'poly__interaction_only':[True, False],\n",
    "    'RF__max_depth':[3,5],\n",
    "    'RF__max_features':[2,3,4]\n",
    "}\n",
    "\n",
    "model = GridSearchCV(pipeline, param_grid=parameters, \n",
    "                     cv=5, n_jobs=-1, verbose=1)\n",
    "model.fit(X_train, y_train)\n",
    "model.best_params_"
   ]
  },
  {
   "cell_type": "code",
   "execution_count": 7,
   "metadata": {},
   "outputs": [
    {
     "name": "stdout",
     "output_type": "stream",
     "text": [
      "0.975\n",
      "0.9666666666666667\n"
     ]
    }
   ],
   "source": [
    "pred_train = model.predict(X_train)\n",
    "pred_test = model.predict(X_test)\n",
    "\n",
    "# Train score\n",
    "print(accuracy_score(y_train, pred_train))\n",
    "\n",
    "# Test score\n",
    "print(accuracy_score(y_test, pred_test))"
   ]
  },
  {
   "cell_type": "code",
   "execution_count": 8,
   "metadata": {},
   "outputs": [
    {
     "data": {
      "text/plain": [
       "{'cv': 5,\n",
       " 'error_score': nan,\n",
       " 'estimator__memory': None,\n",
       " 'estimator__steps': [('poly', PolynomialFeatures()),\n",
       "  ('scaler', StandardScaler()),\n",
       "  ('RF', RandomForestClassifier())],\n",
       " 'estimator__verbose': False,\n",
       " 'estimator__poly': PolynomialFeatures(),\n",
       " 'estimator__scaler': StandardScaler(),\n",
       " 'estimator__RF': RandomForestClassifier(),\n",
       " 'estimator__poly__degree': 2,\n",
       " 'estimator__poly__include_bias': True,\n",
       " 'estimator__poly__interaction_only': False,\n",
       " 'estimator__poly__order': 'C',\n",
       " 'estimator__scaler__copy': True,\n",
       " 'estimator__scaler__with_mean': True,\n",
       " 'estimator__scaler__with_std': True,\n",
       " 'estimator__RF__bootstrap': True,\n",
       " 'estimator__RF__ccp_alpha': 0.0,\n",
       " 'estimator__RF__class_weight': None,\n",
       " 'estimator__RF__criterion': 'gini',\n",
       " 'estimator__RF__max_depth': None,\n",
       " 'estimator__RF__max_features': 'auto',\n",
       " 'estimator__RF__max_leaf_nodes': None,\n",
       " 'estimator__RF__max_samples': None,\n",
       " 'estimator__RF__min_impurity_decrease': 0.0,\n",
       " 'estimator__RF__min_impurity_split': None,\n",
       " 'estimator__RF__min_samples_leaf': 1,\n",
       " 'estimator__RF__min_samples_split': 2,\n",
       " 'estimator__RF__min_weight_fraction_leaf': 0.0,\n",
       " 'estimator__RF__n_estimators': 100,\n",
       " 'estimator__RF__n_jobs': None,\n",
       " 'estimator__RF__oob_score': False,\n",
       " 'estimator__RF__random_state': None,\n",
       " 'estimator__RF__verbose': 0,\n",
       " 'estimator__RF__warm_start': False,\n",
       " 'estimator': Pipeline(steps=[('poly', PolynomialFeatures()), ('scaler', StandardScaler()),\n",
       "                 ('RF', RandomForestClassifier())]),\n",
       " 'iid': 'deprecated',\n",
       " 'n_jobs': -1,\n",
       " 'param_grid': {'poly__degree': [1, 2],\n",
       "  'poly__interaction_only': [True, False],\n",
       "  'RF__max_depth': [3, 5],\n",
       "  'RF__max_features': [2, 3, 4]},\n",
       " 'pre_dispatch': '2*n_jobs',\n",
       " 'refit': True,\n",
       " 'return_train_score': False,\n",
       " 'scoring': None,\n",
       " 'verbose': 1}"
      ]
     },
     "execution_count": 8,
     "metadata": {},
     "output_type": "execute_result"
    }
   ],
   "source": [
    "# Get Model Parameters\n",
    "model.get_params()"
   ]
  },
  {
   "cell_type": "markdown",
   "metadata": {},
   "source": [
    "<br>\n",
    "\n",
    "## Export Model\n",
    "Since We already have a good model with the best parameters, we will need to export the model to binary files such as pickle so that model can be used to serve as Prediction"
   ]
  },
  {
   "cell_type": "code",
   "execution_count": 9,
   "metadata": {},
   "outputs": [],
   "source": [
    "import pickle\n",
    "pickle.dump(model, open('iris_model.pkl','wb'))"
   ]
  },
  {
   "cell_type": "code",
   "execution_count": 10,
   "metadata": {},
   "outputs": [
    {
     "name": "stdout",
     "output_type": "stream",
     "text": [
      "13/12/2020  17:37           104.958 iris_model.pkl\n"
     ]
    }
   ],
   "source": [
    "# To show files in Linux\n",
    "# !ls | grep .pkl\n",
    "\n",
    "# To Show files in Windows\n",
    "!dir | findstr \".pkl\"\n"
   ]
  },
  {
   "cell_type": "code",
   "execution_count": null,
   "metadata": {},
   "outputs": [],
   "source": []
  }
 ],
 "metadata": {
  "kernelspec": {
   "display_name": "Python 3",
   "language": "python",
   "name": "python3"
  },
  "language_info": {
   "codemirror_mode": {
    "name": "ipython",
    "version": 3
   },
   "file_extension": ".py",
   "mimetype": "text/x-python",
   "name": "python",
   "nbconvert_exporter": "python",
   "pygments_lexer": "ipython3",
   "version": "3.8.3"
  }
 },
 "nbformat": 4,
 "nbformat_minor": 4
}
